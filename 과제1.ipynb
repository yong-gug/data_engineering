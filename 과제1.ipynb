{
 "cells": [
  {
   "cell_type": "markdown",
   "id": "2ccb96ff-473e-42e1-a3de-8667a6924fc1",
   "metadata": {},
   "source": [
    "# 과제 1: Receipts for Lovely Loveseats"
   ]
  },
  {
   "cell_type": "code",
   "execution_count": 1,
   "id": "9fd947f3-fb15-4337-afca-adfed2d30d76",
   "metadata": {},
   "outputs": [],
   "source": [
    "lovely_loveseat_description = \"Lovely Loveseat. Tufted polyester blend on wood. 32 inches high x 40 inches wide x 30 inches deep. Red or white.\""
   ]
  },
  {
   "cell_type": "code",
   "execution_count": 3,
   "id": "cdc9fa86-56b1-49e6-824c-bc2d66adc0f0",
   "metadata": {},
   "outputs": [],
   "source": [
    "lovely_loveseat_price = 254.00"
   ]
  },
  {
   "cell_type": "code",
   "execution_count": 4,
   "id": "6ee9f7df-9b43-4ebf-b806-a05e72cbb0b5",
   "metadata": {},
   "outputs": [],
   "source": [
    "stylish_settee_description = \"Stylish Settee. Faux leather on birch. 29.50 inches high x 54.75 inches wide x 28 inches deep. Black.\""
   ]
  },
  {
   "cell_type": "code",
   "execution_count": 5,
   "id": "3fb19d91-e41f-4944-b655-389e03c5494a",
   "metadata": {},
   "outputs": [],
   "source": [
    "stylish_settee_price = 180.50"
   ]
  },
  {
   "cell_type": "code",
   "execution_count": 6,
   "id": "e38ac10a-922f-44d6-b30e-a0e007b933fd",
   "metadata": {},
   "outputs": [],
   "source": [
    "luxurious_lamp_description = \"Luxurious Lamp. Glass and iron. 36 inches tall. Brown with cream shade.\""
   ]
  },
  {
   "cell_type": "code",
   "execution_count": 7,
   "id": "7c4cede3-c2f1-4259-a2f4-9e2839ecf4c6",
   "metadata": {},
   "outputs": [],
   "source": [
    "luxurious_lamp_price = 52.15"
   ]
  },
  {
   "cell_type": "code",
   "execution_count": 8,
   "id": "678a09bb-064a-4ea0-b669-bb5e83524827",
   "metadata": {},
   "outputs": [],
   "source": [
    "sales_tax = .088"
   ]
  },
  {
   "cell_type": "code",
   "execution_count": 9,
   "id": "10349124-ae3c-4661-b78b-bf4555d99bb4",
   "metadata": {},
   "outputs": [],
   "source": [
    "customer_one_total = 0"
   ]
  },
  {
   "cell_type": "code",
   "execution_count": 10,
   "id": "4688e9f0-0f12-4be7-8851-00b4d1a3149c",
   "metadata": {},
   "outputs": [],
   "source": [
    "customer_one_itemization = \"\""
   ]
  },
  {
   "cell_type": "code",
   "execution_count": 11,
   "id": "98403c41-ff63-4814-90ed-0e93cf6ea5a8",
   "metadata": {},
   "outputs": [],
   "source": [
    "customer_one_total = customer_one_total + lovely_loveseat_price"
   ]
  },
  {
   "cell_type": "code",
   "execution_count": 14,
   "id": "484487b4-f711-45c1-bf6b-706bbd666f0b",
   "metadata": {},
   "outputs": [],
   "source": [
    "customer_one_itemization = customer_one_itemization + \"Lovely Loveseat\""
   ]
  },
  {
   "cell_type": "code",
   "execution_count": 15,
   "id": "e5623bcb-da22-41d7-828f-c9551cc2325b",
   "metadata": {},
   "outputs": [],
   "source": [
    "customer_one_total = customer_one_total + luxurious_lamp_price"
   ]
  },
  {
   "cell_type": "code",
   "execution_count": 21,
   "id": "52c28800-85b8-4dfa-bbb1-9bd9cb92ec56",
   "metadata": {},
   "outputs": [],
   "source": [
    "customer_one_itemization = customer_one_itemization + \"luxurious lamp\""
   ]
  },
  {
   "cell_type": "code",
   "execution_count": 22,
   "id": "a170ccaa-894d-442d-b064-d83490f9b860",
   "metadata": {},
   "outputs": [],
   "source": [
    "customer_one_tax = customer_one_total * sales_tax"
   ]
  },
  {
   "cell_type": "code",
   "execution_count": 23,
   "id": "37771ec2-7196-45e3-aa37-70176a9690be",
   "metadata": {},
   "outputs": [],
   "source": [
    "customer_one_total += customer_one_tax"
   ]
  },
  {
   "cell_type": "code",
   "execution_count": 25,
   "id": "6d01b216-a3fb-45d2-b566-72c3407b37b3",
   "metadata": {},
   "outputs": [
    {
     "name": "stdout",
     "output_type": "stream",
     "text": [
      "Customer One Items: Lovely LoveseatLovely Loveseatluxurious lamp, luxurious lamp\n"
     ]
    }
   ],
   "source": [
    "print(\"Customer One Items:\", customer_one_itemization)"
   ]
  },
  {
   "cell_type": "code",
   "execution_count": null,
   "id": "dd90c521-f0d5-49fb-8c3f-04de2937e723",
   "metadata": {},
   "outputs": [],
   "source": [
    "print(\"customer "
   ]
  }
 ],
 "metadata": {
  "kernelspec": {
   "display_name": "Python 3 (ipykernel)",
   "language": "python",
   "name": "python3"
  },
  "language_info": {
   "codemirror_mode": {
    "name": "ipython",
    "version": 3
   },
   "file_extension": ".py",
   "mimetype": "text/x-python",
   "name": "python",
   "nbconvert_exporter": "python",
   "pygments_lexer": "ipython3",
   "version": "3.9.13"
  }
 },
 "nbformat": 4,
 "nbformat_minor": 5
}
