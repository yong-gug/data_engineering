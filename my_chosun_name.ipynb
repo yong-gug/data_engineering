{
 "cells": [
  {
   "cell_type": "code",
   "execution_count": 2,
   "id": "892c7401",
   "metadata": {},
   "outputs": [],
   "source": [
    "month = ['쌍', '쇠', '복', '돌', '팽', '육', '쌍', '개', '칠', '갑', '삼', '방']"
   ]
  },
  {
   "cell_type": "code",
   "execution_count": 4,
   "id": "69cf93ba",
   "metadata": {},
   "outputs": [],
   "source": [
    "day = ['봉', '구', '욕', '포', '똥', '삼', '식', '석', '놈', '님', '년', '돌', '단', '득', '방', '질', '장', '걸', '래', '룡', '동', '순', '자', '박', '창', '언', '것', '포', '만', '단', '국']"
   ]
  },
  {
   "cell_type": "code",
   "execution_count": 30,
   "id": "9db88a95",
   "metadata": {},
   "outputs": [],
   "source": [
    "def get_my_chosun_name(family_name, i, j):\n",
    "    print('당신의 조선시대 이름은 ' + family_name + month[i-1] + day[j-1] + '입니다.')"
   ]
  },
  {
   "cell_type": "code",
   "execution_count": 31,
   "id": "8048ab6f",
   "metadata": {},
   "outputs": [
    {
     "name": "stdout",
     "output_type": "stream",
     "text": [
      "당신의 조선시대 이름은 손팽박입니다.\n"
     ]
    }
   ],
   "source": [
    "get_my_chosun_name(\"손\", 5, 24)"
   ]
  },
  {
   "cell_type": "code",
   "execution_count": null,
   "id": "5fae8439",
   "metadata": {},
   "outputs": [],
   "source": []
  }
 ],
 "metadata": {
  "kernelspec": {
   "display_name": "Python 3 (ipykernel)",
   "language": "python",
   "name": "python3"
  },
  "language_info": {
   "codemirror_mode": {
    "name": "ipython",
    "version": 3
   },
   "file_extension": ".py",
   "mimetype": "text/x-python",
   "name": "python",
   "nbconvert_exporter": "python",
   "pygments_lexer": "ipython3",
   "version": "3.8.8"
  }
 },
 "nbformat": 4,
 "nbformat_minor": 5
}
