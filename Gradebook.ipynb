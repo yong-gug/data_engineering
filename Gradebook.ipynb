{
 "cells": [
  {
   "cell_type": "code",
   "execution_count": 1,
   "id": "ae7102de-9add-4725-ae98-341203e0d5ac",
   "metadata": {},
   "outputs": [],
   "source": [
    "subjects = [\"physics\", \"calculus\", \"poetry\", \"history\"]"
   ]
  },
  {
   "cell_type": "code",
   "execution_count": 2,
   "id": "9aa3281f-ff2a-444f-9e4a-e12e33772bd7",
   "metadata": {},
   "outputs": [],
   "source": [
    "grades = [98, 97, 85, 88]"
   ]
  },
  {
   "cell_type": "code",
   "execution_count": 3,
   "id": "01e274e1-5481-465d-aead-76e536a66041",
   "metadata": {},
   "outputs": [],
   "source": [
    "gradebook = [[subject, grade] for subject, grade in zip(subjects, grades)]"
   ]
  },
  {
   "cell_type": "code",
   "execution_count": 8,
   "id": "4afdc9e0-ede5-4aed-9461-bf0b0efc24e0",
   "metadata": {},
   "outputs": [
    {
     "name": "stdout",
     "output_type": "stream",
     "text": [
      "[['physics', 98], ['calculus', 97], ['poetry', 85], ['history', 88], ['computer science', 100], ['visual arts', 98]]\n"
     ]
    }
   ],
   "source": [
    "print(gradebook)"
   ]
  },
  {
   "cell_type": "code",
   "execution_count": 5,
   "id": "aa7234e7-427d-4ec9-85a9-e5170e6eacc3",
   "metadata": {},
   "outputs": [],
   "source": [
    "gradebook.append([\"computer science\", 100])"
   ]
  },
  {
   "cell_type": "code",
   "execution_count": 6,
   "id": "ca03d7c8-09f2-42ca-9abe-e780b0e7d636",
   "metadata": {},
   "outputs": [],
   "source": [
    "gradebook.append([\"visual arts\", 93])"
   ]
  },
  {
   "cell_type": "code",
   "execution_count": 7,
   "id": "10a7eb60-315f-4df8-bcfc-d06a633ff96c",
   "metadata": {},
   "outputs": [],
   "source": [
    "gradebook[5][1] += 5"
   ]
  },
  {
   "cell_type": "code",
   "execution_count": 11,
   "id": "6358f689-4c99-458b-9fa2-63cf3055d0c2",
   "metadata": {},
   "outputs": [],
   "source": [
    "for lt in gradebook:\n",
    "    if lt[1] == 85:\n",
    "        gradebook.remove(lt)"
   ]
  },
  {
   "cell_type": "code",
   "execution_count": 12,
   "id": "6004dd4f-1927-4e31-a3a6-65381593c540",
   "metadata": {},
   "outputs": [],
   "source": [
    "gradebook.append(['poetry', 'pass'])"
   ]
  },
  {
   "cell_type": "code",
   "execution_count": 14,
   "id": "26a8b046-75d5-43d0-b056-cf375b938f36",
   "metadata": {},
   "outputs": [],
   "source": [
    "last_semester_gradebook = [[\"politics\", 80], [\"latin\", 96], [\"dance\", 97], [\"architecture\", 65]]"
   ]
  },
  {
   "cell_type": "code",
   "execution_count": 16,
   "id": "00483e2f-6fcb-4063-b991-7f054835822b",
   "metadata": {},
   "outputs": [
    {
     "name": "stdout",
     "output_type": "stream",
     "text": [
      "[['politics', 80], ['latin', 96], ['dance', 97], ['architecture', 65], ['physics', 98], ['calculus', 97], ['history', 88], ['computer science', 100], ['visual arts', 98], ['poetry', 'pass']]\n"
     ]
    }
   ],
   "source": [
    "full_gradebook = last_semester_gradebook + gradebook\n",
    "print(full_gradebook)"
   ]
  }
 ],
 "metadata": {
  "kernelspec": {
   "display_name": "Python 3 (ipykernel)",
   "language": "python",
   "name": "python3"
  },
  "language_info": {
   "codemirror_mode": {
    "name": "ipython",
    "version": 3
   },
   "file_extension": ".py",
   "mimetype": "text/x-python",
   "name": "python",
   "nbconvert_exporter": "python",
   "pygments_lexer": "ipython3",
   "version": "3.8.8"
  }
 },
 "nbformat": 4,
 "nbformat_minor": 5
}
